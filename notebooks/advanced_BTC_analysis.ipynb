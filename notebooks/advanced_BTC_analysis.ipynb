{
  "nbformat": 4,
  "nbformat_minor": 5,
  "metadata": {
    "noteable-chatgpt": {
      "create_notebook": {
        "openai_conversation_id": "4c6c26a5-67a3-56c5-a045-48292f1dde32",
        "openai_ephemeral_user_id": "26a2e1f0-1936-5768-a31c-ea8d270ee6fc"
      }
    },
    "noteable": {
      "last_transaction_id": "798766a9-c85f-4262-ab75-c2d983f45252"
    }
  },
  "cells": [
    {
      "id": "f010804e-fbc9-40e8-b0d0-b23b96defbdd",
      "cell_type": "markdown",
      "source": "# Market Sentiment Analysis:\n\n## 1.1. Google Trends Analysis:",
      "metadata": {
        "noteable": {
          "cell_type": "markdown"
        }
      }
    },
    {
      "id": "0feae1ec-f513-410e-9aaf-983bc678f759",
      "cell_type": "code",
      "metadata": {
        "noteable": {
          "cell_type": "code",
          "output_collection_id": "81aab73f-03b5-462f-8b6c-4e6d6d63d882"
        },
        "ExecuteTime": {
          "end_time": "2023-07-13T18:03:17.577557+00:00",
          "start_time": "2023-07-13T18:03:12.878082+00:00"
        }
      },
      "execution_count": null,
      "source": "!pip install -q pytrends\nfrom pytrends.request import TrendReq",
      "outputs": []
    },
    {
      "id": "2e9acc07-6cbd-4f8c-8795-724d77c65749",
      "cell_type": "code",
      "metadata": {
        "noteable": {
          "cell_type": "code",
          "output_collection_id": "80701880-7225-4c65-ad6e-f0fb98568462"
        },
        "ExecuteTime": {
          "end_time": "2023-07-13T18:03:28.550375+00:00",
          "start_time": "2023-07-13T18:03:28.128997+00:00"
        }
      },
      "execution_count": null,
      "source": "pytrends = TrendReq(hl='en-US', tz=360)\nkw_list = ['Bitcoin']\ntimeframe = '2019-10-01 2023-07-11'\npytrends.build_payload(kw_list, timeframe=timeframe)",
      "outputs": []
    },
    {
      "id": "608746fb-67e0-4e61-a48d-e94f1a89c7dd",
      "cell_type": "code",
      "metadata": {
        "noteable": {
          "cell_type": "code",
          "output_collection_id": "bc0232ab-72dc-48c0-8734-02a8d4fa11b6"
        },
        "ExecuteTime": {
          "end_time": "2023-07-13T18:03:39.386082+00:00",
          "start_time": "2023-07-13T18:03:38.602381+00:00"
        }
      },
      "execution_count": null,
      "source": "trends_data = pytrends.interest_over_time()\ntrends_data['Bitcoin'].plot(figsize=(14, 7))\nplt.title('Google Trends data for Bitcoin')\nplt.show()",
      "outputs": []
    }
  ]
}